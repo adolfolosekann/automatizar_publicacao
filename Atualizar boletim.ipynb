{
 "cells": [
  {
   "cell_type": "code",
   "execution_count": null,
   "id": "04a9bf7d",
   "metadata": {},
   "outputs": [],
   "source": [
    "#!pip install pyautogui\n",
    "#!pip install pyperclip"
   ]
  },
  {
   "cell_type": "code",
   "execution_count": 42,
   "id": "d7b6c5e5",
   "metadata": {},
   "outputs": [],
   "source": [
    "import pyautogui\n",
    "import pyperclip\n",
    "import time\n",
    "\n",
    "pyautogui.PAUSE = 1.5\n",
    "\n",
    "#abrir o whats no navegador opera\n",
    "pyautogui.click(x=14, y=247)\n",
    "#clicar no campo de busca\n",
    "pyautogui.click(x=203, y=215)\n",
    "#colar/escrever boletim\n",
    "pyautogui.write('Boletim')\n",
    "#clicar para abrir o grupo\n",
    "pyautogui.click(x=205, y=355)\n",
    "#clicar para baixar\n",
    "pyautogui.click(x=662, y=900)\n",
    "#abrir nova aba no navegador\n",
    "pyautogui.hotkey('ctrl', 't')\n",
    "#Entrar no link 'https://igesdf.org.br/boletins-de-atos-oficiais/'\n",
    "pyautogui.write('https://igesdf.org.br/boletins-de-atos-oficiais/')\n",
    "pyautogui.press('enter')\n",
    "#Esperar o carregamento da página\n",
    "time.sleep(5)\n",
    "#clicar para editar com elementor\n",
    "pyautogui.click(x=843, y=114)\n",
    "#esperar o carregamento da tela\n",
    "time.sleep(14)\n",
    "#clicar na tela para selecionar o acordeão\n",
    "pyautogui.click(x=1188, y=641)\n",
    "#clicar no primeiro campo da data\n",
    "pyautogui.click(x=185, y=295)\n",
    "time.sleep(4)\n",
    "#clicar no campo de texto\n",
    "pyautogui.click(x=120, y=613)\n",
    "#precionar o a seta do teclado <\n",
    "pyautogui.press('left')\n",
    "#colar o texto, unico campo que faço alteração (depois alterar para que seja dinâmico o número e a data)\n",
    "pyperclip.copy('Boletim Nº 470, 13 de Janeiro de 2021 (Edição Ordinária)')\n",
    "pyautogui.hotkey('ctrl', 'v')\n",
    "pyautogui.press('enter')\n",
    "#dar 3 clicques no texto\n",
    "pyautogui.click(x=153, y=616, clicks=3)\n",
    "#clicar em adicionar mídia\n",
    "pyautogui.click(x=138, y=410)\n",
    "time.sleep(4)\n",
    "#clicar em enviar arquivos\n",
    "pyautogui.click(x=331, y=194)\n",
    "#clicar em selecionar arquivos\n",
    "pyautogui.click(x=1078, y=537)\n",
    "#clicar no arquivo\n",
    "pyautogui.click(x=1064, y=340)\n",
    "#aguardar 5s para fazer upload do arquivo\n",
    "time.sleep(4)\n",
    "#clicar em copiar url para área de transferência\n",
    "pyautogui.click(x=1772, y=657)\n",
    "#fechar a tela\n",
    "pyautogui.click(x=1862, y=152)\n",
    "#clicar em inserir link\n",
    "pyautogui.click(x=93, y=500)\n",
    "#colar o link\n",
    "pyautogui.hotkey('ctrl', 'v')\n",
    "pyautogui.press('enter')\n",
    "#clicar para atualizar a página\n",
    "pyautogui.click(x=330, y=1020)"
   ]
  },
  {
   "cell_type": "code",
   "execution_count": 35,
   "id": "a3d3cb6d",
   "metadata": {},
   "outputs": [
    {
     "data": {
      "text/plain": [
       "Point(x=330, y=1020)"
      ]
     },
     "execution_count": 35,
     "metadata": {},
     "output_type": "execute_result"
    }
   ],
   "source": [
    "#time.sleep(5)\n",
    "#pyautogui.position()"
   ]
  }
 ],
 "metadata": {
  "kernelspec": {
   "display_name": "Python 3 (ipykernel)",
   "language": "python",
   "name": "python3"
  },
  "language_info": {
   "codemirror_mode": {
    "name": "ipython",
    "version": 3
   },
   "file_extension": ".py",
   "mimetype": "text/x-python",
   "name": "python",
   "nbconvert_exporter": "python",
   "pygments_lexer": "ipython3",
   "version": "3.9.7"
  }
 },
 "nbformat": 4,
 "nbformat_minor": 5
}
